{
 "cells": [
  {
   "cell_type": "markdown",
   "metadata": {},
   "source": [
    "Create a series of 10 elements, random integers from 70 to 100, representing scores\n",
    "on a monthly exam. Set the index to be the month names, starting in September and ending in June. (If these months don’t match the school year in your location, feel\n",
    "free to make them more realistic.)\n",
    "\n",
    "With this series, write code to answer the following questions:\n",
    "* What is the student’s average test score for the entire year?\n",
    "* What is the student’s average test score during the first half of the year (i.e., the first five months)?\n",
    "* What is the student’s average test score during the second half of the year?\n",
    "* Did the student improve their performance in the second half? If so, by how much?"
   ]
  },
  {
   "cell_type": "code",
   "execution_count": 7,
   "metadata": {},
   "outputs": [],
   "source": [
    "from pandas import Series, DataFrame\n",
    "import pandas as pd\n",
    "import numpy as np"
   ]
  },
  {
   "cell_type": "code",
   "execution_count": 9,
   "metadata": {},
   "outputs": [
    {
     "data": {
      "text/plain": [
       "0    1\n",
       "1    2\n",
       "2    3\n",
       "3    4\n",
       "4    5\n",
       "dtype: int64"
      ]
     },
     "execution_count": 9,
     "metadata": {},
     "output_type": "execute_result"
    }
   ],
   "source": [
    "s = Series([1, 2, 3, 4, 5])\n",
    "s"
   ]
  },
  {
   "cell_type": "code",
   "execution_count": 10,
   "metadata": {},
   "outputs": [
    {
     "data": {
      "text/plain": [
       "a    1\n",
       "b    2\n",
       "c    3\n",
       "d    4\n",
       "e    5\n",
       "dtype: int64"
      ]
     },
     "execution_count": 10,
     "metadata": {},
     "output_type": "execute_result"
    }
   ],
   "source": [
    "s = Series([1, 2, 3, 4, 5], index=[\"a\", \"b\", \"c\", \"d\", \"e\"])\n",
    "s"
   ]
  },
  {
   "cell_type": "code",
   "execution_count": null,
   "metadata": {},
   "outputs": [
    {
     "data": {
      "text/plain": [
       "a    1\n",
       "b    2\n",
       "c    3\n",
       "d    4\n",
       "e    5\n",
       "Name: my_series, dtype: int64"
      ]
     },
     "execution_count": 12,
     "metadata": {},
     "output_type": "execute_result"
    }
   ],
   "source": [
    "s = Series([1, 2, 3, 4, 5], index=[\"a\", \"b\", \"c\", \"d\", \"e\"], name=\"my_series\")\n",
    "s"
   ]
  },
  {
   "cell_type": "code",
   "execution_count": 13,
   "metadata": {},
   "outputs": [
    {
     "data": {
      "text/plain": [
       "0    1\n",
       "1    2\n",
       "2    3\n",
       "3    4\n",
       "4    5\n",
       "dtype: int64"
      ]
     },
     "execution_count": 13,
     "metadata": {},
     "output_type": "execute_result"
    }
   ],
   "source": [
    "s = Series(np.array([1, 2, 3, 4, 5]))\n",
    "s"
   ]
  },
  {
   "cell_type": "markdown",
   "metadata": {},
   "source": [
    "Creating a random-number generator object:"
   ]
  },
  {
   "cell_type": "code",
   "execution_count": 24,
   "metadata": {},
   "outputs": [],
   "source": [
    "g = np.random.default_rng(0)"
   ]
  },
  {
   "cell_type": "code",
   "execution_count": 25,
   "metadata": {},
   "outputs": [
    {
     "data": {
      "text/plain": [
       "0    96\n",
       "1    89\n",
       "2    85\n",
       "3    78\n",
       "4    79\n",
       "5    71\n",
       "6    72\n",
       "7    70\n",
       "8    75\n",
       "9    95\n",
       "dtype: int64"
      ]
     },
     "execution_count": 25,
     "metadata": {},
     "output_type": "execute_result"
    }
   ],
   "source": [
    "s = Series(g.integers(70, 101, 10))\n",
    "s"
   ]
  },
  {
   "cell_type": "markdown",
   "metadata": {},
   "source": [
    "String indexes"
   ]
  },
  {
   "cell_type": "code",
   "execution_count": 27,
   "metadata": {},
   "outputs": [
    {
     "data": {
      "text/plain": [
       "Mar    96\n",
       "Apr    89\n",
       "May    85\n",
       "Jun    78\n",
       "Jul    79\n",
       "Aug    71\n",
       "Sep    72\n",
       "Oct    70\n",
       "Nov    75\n",
       "Dec    95\n",
       "dtype: int64"
      ]
     },
     "execution_count": 27,
     "metadata": {},
     "output_type": "execute_result"
    }
   ],
   "source": [
    "g = np.random.default_rng(0)\n",
    "s = Series(\n",
    "    g.integers(70, 101, 10),\n",
    "    index=[\"Mar\", \"Apr\", \"May\", \"Jun\", \"Jul\", \"Aug\", \"Sep\", \"Oct\", \"Nov\", \"Dec\"],\n",
    ")\n",
    "s"
   ]
  },
  {
   "cell_type": "code",
   "execution_count": 28,
   "metadata": {},
   "outputs": [
    {
     "data": {
      "text/plain": [
       "Mar    96\n",
       "Apr    89\n",
       "May    85\n",
       "Jun    78\n",
       "Jul    79\n",
       "Aug    71\n",
       "Sep    72\n",
       "Oct    70\n",
       "Nov    75\n",
       "Dec    95\n",
       "dtype: int64"
      ]
     },
     "execution_count": 28,
     "metadata": {},
     "output_type": "execute_result"
    }
   ],
   "source": [
    "g = np.random.default_rng(0)\n",
    "s = Series(g.integers(70, 101, 10))\n",
    "s.index = \"Mar Apr May Jun Jul Aug Sep Oct Nov Dec\".split()\n",
    "s"
   ]
  },
  {
   "cell_type": "code",
   "execution_count": 30,
   "metadata": {},
   "outputs": [
    {
     "data": {
      "text/plain": [
       "Mar    96\n",
       "Apr    89\n",
       "May    85\n",
       "Jun    78\n",
       "Jul    79\n",
       "Aug    71\n",
       "Sep    72\n",
       "Oct    70\n",
       "Nov    75\n",
       "Dec    95\n",
       "dtype: int64"
      ]
     },
     "execution_count": 30,
     "metadata": {},
     "output_type": "execute_result"
    }
   ],
   "source": [
    "g = np.random.default_rng(0)\n",
    "s = Series(g.integers(70, 101, 10))\n",
    "s.index = Series(\"Mar Apr May Jun Jul Aug Sep Oct Nov Dec\".split())\n",
    "s"
   ]
  },
  {
   "cell_type": "code",
   "execution_count": 31,
   "metadata": {},
   "outputs": [
    {
     "data": {
      "text/plain": [
       "Mar    96\n",
       "Apr    89\n",
       "May    85\n",
       "Jun    78\n",
       "Jul    79\n",
       "Aug    71\n",
       "Sep    72\n",
       "Oct    70\n",
       "Nov    75\n",
       "Dec    95\n",
       "dtype: int64"
      ]
     },
     "execution_count": 31,
     "metadata": {},
     "output_type": "execute_result"
    }
   ],
   "source": [
    "g = np.random.default_rng(0)\n",
    "months = [\"Mar\", \"Apr\", \"May\", \"Jun\", \"Jul\", \"Aug\", \"Sep\", \"Oct\", \"Nov\", \"Dec\"]\n",
    "s = Series(g.integers(70, 101, 10), index=months)\n",
    "s"
   ]
  },
  {
   "cell_type": "markdown",
   "metadata": {},
   "source": [
    "**What is the student’s average test score for the entire year?**"
   ]
  },
  {
   "cell_type": "code",
   "execution_count": 32,
   "metadata": {},
   "outputs": [
    {
     "name": "stdout",
     "output_type": "stream",
     "text": [
      "Yearly average: 81.0\n"
     ]
    }
   ],
   "source": [
    "print(f\"Yearly average: {s.mean()}\")"
   ]
  },
  {
   "cell_type": "markdown",
   "metadata": {},
   "source": [
    "**What is the student’s average test score during the first half of the year (i.e., the first five months)?**"
   ]
  },
  {
   "cell_type": "code",
   "execution_count": 33,
   "metadata": {},
   "outputs": [
    {
     "name": "stdout",
     "output_type": "stream",
     "text": [
      "Average for the first half of the year: 85.4\n"
     ]
    }
   ],
   "source": [
    "print(f\"Average for the first half of the year: {s[:5].mean()}\")"
   ]
  },
  {
   "cell_type": "markdown",
   "metadata": {},
   "source": [
    "**What is the student’s average test score during the second half of the year?**"
   ]
  },
  {
   "cell_type": "code",
   "execution_count": 34,
   "metadata": {},
   "outputs": [
    {
     "name": "stdout",
     "output_type": "stream",
     "text": [
      "Average for the second half of the year: 76.6\n"
     ]
    }
   ],
   "source": [
    "print(f\"Average for the second half of the year: {s[5:].mean()}\")"
   ]
  },
  {
   "cell_type": "code",
   "execution_count": 36,
   "metadata": {},
   "outputs": [
    {
     "name": "stdout",
     "output_type": "stream",
     "text": [
      "Average for the first half of the year: 85.4\n",
      "Average for the second half of the year: 76.6\n"
     ]
    }
   ],
   "source": [
    "print(f\"Average for the first half of the year: {s.iloc[:5].mean()}\")\n",
    "print(f\"Average for the second half of the year: {s.iloc[5:].mean()}\")"
   ]
  },
  {
   "cell_type": "code",
   "execution_count": null,
   "metadata": {},
   "outputs": [
    {
     "name": "stdout",
     "output_type": "stream",
     "text": [
      "Average for the first half of the year: 85.4\n",
      "Average for the first half of the year: 85.4\n",
      "Average for the second half of the year: 76.6\n",
      "Average for the second half of the year: 76.6\n"
     ]
    }
   ],
   "source": [
    "print(f\"Average for the first half of the year: {s[months[:5]].mean()}\")\n",
    "print(f\"Average for the first half of the year: {s.loc['Mar':'Jul'].mean()}\")\n",
    "print(f\"Average for the second half of the year: {s[months[5:]].mean()}\")\n",
    "print(f\"Average for the second half of the year: {s.loc['Aug':].mean()}\")"
   ]
  },
  {
   "cell_type": "markdown",
   "metadata": {},
   "source": [
    "`.loc` may be preferable but it can take twice as long as `.iloc` in benchmarks."
   ]
  },
  {
   "cell_type": "code",
   "execution_count": 39,
   "metadata": {},
   "outputs": [
    {
     "name": "stdout",
     "output_type": "stream",
     "text": [
      "Average for the first half of the year: 85.4\n",
      "Average for the first half of the year: 85.4\n",
      "Average for the second half of the year: 76.6\n",
      "Average for the second half of the year: 76.6\n"
     ]
    }
   ],
   "source": [
    "print(f\"Average for the first half of the year: {s.head().mean()}\")\n",
    "print(f\"Average for the first half of the year: {s.head(5).mean()}\")\n",
    "print(f\"Average for the second half of the year: {s.tail().mean()}\")\n",
    "print(f\"Average for the second half of the year: {s.tail(5).mean()}\")"
   ]
  },
  {
   "cell_type": "markdown",
   "metadata": {},
   "source": [
    "**Did the student improve their performance in the second half? If so, by how much?**"
   ]
  },
  {
   "cell_type": "code",
   "execution_count": 40,
   "metadata": {},
   "outputs": [
    {
     "name": "stdout",
     "output_type": "stream",
     "text": [
      "First half average: 85.4\n",
      "Second half average: 76.6\n",
      "Improvement: -8.800000000000011\n"
     ]
    }
   ],
   "source": [
    "first_half_average = s[\"Mar\":\"Jul\"].mean()\n",
    "second_half_average = s[\"Aug\":\"Dec\"].mean()\n",
    "print(f\"First half average: {first_half_average}\")\n",
    "print(f\"Second half average: {second_half_average}\")\n",
    "print(f\"Improvement: {second_half_average - first_half_average}\")"
   ]
  },
  {
   "cell_type": "markdown",
   "metadata": {},
   "source": [
    "All together"
   ]
  },
  {
   "cell_type": "code",
   "execution_count": 41,
   "metadata": {},
   "outputs": [
    {
     "name": "stdout",
     "output_type": "stream",
     "text": [
      "Yearly average: 81.0\n",
      "First half average: 85.4\n",
      "Second half average: 76.6\n",
      "Improvement: -8.800000000000011\n"
     ]
    }
   ],
   "source": [
    "g = np.random.default_rng(0)\n",
    "months = \"Sep Oct Nov Dec Jan Feb Mar Apr May Jun\".split()\n",
    "s = Series(g.integers(70, 101, 10), index=months)\n",
    "\n",
    "print(f\"Yearly average: {s.mean()}\")\n",
    "\n",
    "first_half_average = s[\"Sep\":\"Jan\"].mean()\n",
    "second_half_average = s[\"Feb\":\"Jun\"].mean()\n",
    "\n",
    "print(f\"First half average: {first_half_average}\")\n",
    "print(f\"Second half average: {second_half_average}\")\n",
    "\n",
    "print(f\"Improvement: {second_half_average - first_half_average}\")"
   ]
  },
  {
   "cell_type": "markdown",
   "metadata": {},
   "source": [
    "More questions"
   ]
  },
  {
   "cell_type": "markdown",
   "metadata": {},
   "source": [
    "**In which month did this student get their highest score?**"
   ]
  },
  {
   "cell_type": "code",
   "execution_count": 65,
   "metadata": {},
   "outputs": [
    {
     "name": "stdout",
     "output_type": "stream",
     "text": [
      "Months with the highest score (96): Sep\n",
      "Months with the highest score (96): Sep\n",
      "Months with the highest score (96): Sep\n"
     ]
    }
   ],
   "source": [
    "# Sorting the series\n",
    "highest_score = s.sort_values(ascending=False).iloc[:1].values[0]\n",
    "months_highest_score = s[s == highest_score]\n",
    "print(\n",
    "    f\"Months with the highest score ({highest_score}): {' '.join(months_highest_score.index)}\"\n",
    ")\n",
    "\n",
    "# Using a mask\n",
    "mask = s[s == s.max()]\n",
    "print(f\"Months with the highest score ({s.max()}): {' '.join(mask.index)}\")\n",
    "\n",
    "# Using idxmax\n",
    "print(f\"Months with the highest score ({s.max()}): {s.idxmax()}\")"
   ]
  },
  {
   "cell_type": "markdown",
   "metadata": {},
   "source": [
    "**What were the five highest scores?**"
   ]
  },
  {
   "cell_type": "code",
   "execution_count": 79,
   "metadata": {},
   "outputs": [
    {
     "name": "stdout",
     "output_type": "stream",
     "text": [
      "Five highest scores: 96 95 89 85 79\n",
      "Five highest scores: 96 95 89 85 79\n"
     ]
    }
   ],
   "source": [
    "# Using nlargest\n",
    "five_highest = s.nlargest(5)  # Series\n",
    "five_highest_str = [str(x) for x in five_highest]  # List of strings\n",
    "print(f\"Five highest scores: {' '.join(five_highest_str)}\")\n",
    "\n",
    "# Sorting the series\n",
    "five_highest = s.sort_values(ascending=False).head()  # Series\n",
    "five_highest_str = [str(x) for x in five_highest]  # List of strings\n",
    "print(f\"Five highest scores: {' '.join(five_highest_str)}\")"
   ]
  },
  {
   "cell_type": "markdown",
   "metadata": {},
   "source": [
    "**Round the student's scores to the nearest 10**"
   ]
  },
  {
   "cell_type": "code",
   "execution_count": 94,
   "metadata": {},
   "outputs": [
    {
     "name": "stdout",
     "output_type": "stream",
     "text": [
      "Rounded scores: \n",
      "Sep    100\n",
      "Oct     90\n",
      "Nov     80\n",
      "Dec     80\n",
      "Jan     80\n",
      "Feb     70\n",
      "Mar     70\n",
      "Apr     70\n",
      "May     80\n",
      "Jun    100\n",
      "dtype: int64\n",
      "Rounded scores: \n",
      "80     4\n",
      "70     3\n",
      "100    2\n",
      "90     1\n",
      "Name: count, dtype: int64\n",
      "Rounded scores: 100 90 80 80 80 70 70 70 80 100\n"
     ]
    }
   ],
   "source": [
    "rounded_scores = s.round(-1)\n",
    "print(f\"Rounded scores: \\n{rounded_scores}\")\n",
    "print(f\"Rounded scores: \\n{rounded_scores.value_counts()}\")\n",
    "rounded_scores_str = [str(x) for x in rounded_scores]\n",
    "print(f\"Rounded scores: {' '.join(rounded_scores_str)}\")"
   ]
  },
  {
   "cell_type": "code",
   "execution_count": 108,
   "metadata": {},
   "outputs": [
    {
     "name": "stdout",
     "output_type": "stream",
     "text": [
      "0     20\n",
      "1     80\n",
      "2    880\n",
      "dtype: int64\n",
      "0      0\n",
      "1    100\n",
      "2    900\n",
      "dtype: int64\n",
      "0       0\n",
      "1       0\n",
      "2    1000\n",
      "dtype: int64\n"
     ]
    }
   ],
   "source": [
    "a = Series([15, 75, 875])\n",
    "print(a.round(-1))\n",
    "print(a.round(-2))\n",
    "print(a.round(-3))"
   ]
  },
  {
   "cell_type": "code",
   "execution_count": null,
   "metadata": {},
   "outputs": [
    {
     "name": "stdout",
     "output_type": "stream",
     "text": [
      "0    15.5\n",
      "dtype: float64\n"
     ]
    }
   ],
   "source": [
    "a = Series([15.46])\n",
    "print(a.round(1))  # Number of decimal places to round to"
   ]
  },
  {
   "cell_type": "code",
   "execution_count": 103,
   "metadata": {},
   "outputs": [
    {
     "name": "stdout",
     "output_type": "stream",
     "text": [
      "0    2000\n",
      "dtype: int64\n"
     ]
    }
   ],
   "source": [
    "a = Series([1546])\n",
    "print(a.round(-3))  # Number of places to round to"
   ]
  }
 ],
 "metadata": {
  "kernelspec": {
   "display_name": "anyone-01",
   "language": "python",
   "name": "python3"
  },
  "language_info": {
   "codemirror_mode": {
    "name": "ipython",
    "version": 3
   },
   "file_extension": ".py",
   "mimetype": "text/x-python",
   "name": "python",
   "nbconvert_exporter": "python",
   "pygments_lexer": "ipython3",
   "version": "3.10.11"
  }
 },
 "nbformat": 4,
 "nbformat_minor": 2
}
